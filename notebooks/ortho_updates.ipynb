{
 "cells": [
  {
   "cell_type": "markdown",
   "id": "d59d33d8-fe29-4218-9987-1a32e72987b6",
   "metadata": {},
   "source": [
    "# Orthogonalization & Peel Off\n",
    "\n",
    "In this notebook, I add functions for peel-off process and a more robust orthogonalization procedure. These are standalone functions here and must be worked into the iterative algorithm. Below I outline what needs to be done to include them in the algorithm.\n",
    "\n",
    "__TO-DO__:\n",
    "- Modify **separation** and wrapper **decomposition** functions to include optional argument for orthogonalization function of choice. Default both to Gram-Schmidt. So decomposition() will take it in as an argument and pass it to separation() which in turn will pass it to orthoganalization().\n",
    "- Modify **refinement** and wrapper **decomposition** functions to include boolean argument for peel off, and give both a default, i.e. peel_off=False. So decomposition() will take it in as an argument and pass it to refinement(). Add code in refinement along the lines of \"if peel_off: z = peel_off(z,s)\" inside the refining loop."
   ]
  },
  {
   "cell_type": "code",
   "execution_count": 1,
   "id": "6b678acd-1129-486f-acbc-383492fe763a",
   "metadata": {},
   "outputs": [],
   "source": [
    "import numpy as np"
   ]
  },
  {
   "cell_type": "markdown",
   "id": "77036832-2e96-4a00-9795-dbb609998a2e",
   "metadata": {},
   "source": [
    "## Peel Off"
   ]
  },
  {
   "cell_type": "code",
   "execution_count": 2,
   "id": "2d1ac187-6f4d-4fed-b123-020ccd94ec68",
   "metadata": {},
   "outputs": [],
   "source": [
    "def peel_off(z, s):\n",
    "    \"\"\"\n",
    "    Removed a source vector from the whitened matrix.\n",
    "    \n",
    "    Parameters\n",
    "    ----------\n",
    "    z: numpy.ndarray\n",
    "        Matrix used in separation and refining steps of decomposition.\n",
    "    s: numpy.ndarray\n",
    "        Source vector to be removed from the whitened matrix.\n",
    "    \n",
    "    Returns\n",
    "    -------\n",
    "        numpy.ndarray\n",
    "            Matrix with source array removed.\n",
    "            \n",
    "    Examples\n",
    "    --------\n",
    "    >>> z = np.array([[1, 4, 6, 9],\n",
    "              [3, 14, 62, 12],\n",
    "              [7, 43, 16, 8]])\n",
    "    >>> s = [2, 2, 1, 3]\n",
    "    >>> peel_off(z, s)\n",
    "    array([[-1,  2,  5,  6],\n",
    "           [ 1, 12, 61,  9],\n",
    "           [ 5, 41, 15,  5]])\n",
    "    \"\"\"\n",
    "    return z - s"
   ]
  },
  {
   "cell_type": "code",
   "execution_count": 3,
   "id": "cb6946f3-938e-4301-ab7e-59f8cf76928c",
   "metadata": {},
   "outputs": [
    {
     "name": "stdout",
     "output_type": "stream",
     "text": [
      "[[ 1  4  6  9]\n",
      " [ 3 14 62 12]\n",
      " [ 7 43 16  8]]\n"
     ]
    },
    {
     "data": {
      "text/plain": [
       "(3, 4)"
      ]
     },
     "execution_count": 3,
     "metadata": {},
     "output_type": "execute_result"
    }
   ],
   "source": [
    "z = np.array([[1, 4, 6, 9],\n",
    "              [3, 14, 62, 12],\n",
    "              [7, 43, 16, 8]])\n",
    "print(z)\n",
    "z.shape"
   ]
  },
  {
   "cell_type": "markdown",
   "id": "d04dc5ba-8b31-4956-80ea-81776c9498c5",
   "metadata": {},
   "source": [
    "## Deflate Function"
   ]
  },
  {
   "cell_type": "code",
   "execution_count": 4,
   "id": "0006d50b-dbcd-40c4-a24b-2c687978e5cd",
   "metadata": {},
   "outputs": [],
   "source": [
    "def deflate(w, B):\n",
    "    \"\"\"\n",
    "    Step 2b from Negro et al. (2016): wi(n) = wi(n) - BB^{T} * w_i(n)\n",
    "    Note: this is not true orthogonalization, such as the Gram–Schmidt process.\n",
    "    This is dubbed in paper \"source deflation procedure.\"\n",
    "\n",
    "    Parameters\n",
    "    ----------\n",
    "        w: numpy.ndarray\n",
    "            Vectors for which we seek orthogonal matrix.\n",
    "        B: numpy.ndarray\n",
    "            Matrix to 'deflate' w by.\n",
    "\n",
    "    Returns\n",
    "    -------\n",
    "        numpy.ndarray\n",
    "            'Deflated' array.\n",
    "\n",
    "    Examples\n",
    "    --------\n",
    "        >>> w = np.array([[5, 6], [23, 29]])\n",
    "        >>> B = np.array([[3, 3], [3, 3]])\n",
    "        >>> orthogonalize(w, B)\n",
    "        array([[-499, -624],\n",
    "               [-481, -601]])\n",
    "    \"\"\"\n",
    "    w = w - np.dot(B, np.dot(B.T, w))\n",
    "    return w"
   ]
  },
  {
   "cell_type": "markdown",
   "id": "7875e9d2-5168-4d8e-9087-2667983c05af",
   "metadata": {},
   "source": [
    "## Gram-Schmidt orthogonalization"
   ]
  },
  {
   "cell_type": "code",
   "execution_count": 5,
   "id": "18c2205c-6768-4bb7-bfb5-ecdb042ccd51",
   "metadata": {},
   "outputs": [],
   "source": [
    "def gram_schmidt(w, B):\n",
    "    \"\"\"\n",
    "    Gram-Schmidt orthogonalization.\n",
    "\n",
    "    Parameters\n",
    "    ----------\n",
    "        w: numpy.ndarray\n",
    "            Vector we are orthogonalizing against columns of B.\n",
    "        B: numpy.ndarray\n",
    "            Matrix to 'deflate' w by. Should contain float dtype.\n",
    "\n",
    "    Returns\n",
    "    -------\n",
    "        numpy.ndarray\n",
    "            'Deflated' array.\n",
    "\n",
    "    Examples\n",
    "    --------\n",
    "        >>> w = np.array([7, 4, 6])\n",
    "        >>> B = np.array([[ 1. ,  1.2,  0. ],\n",
    "                          [ 2. , -0.6,  0. ],\n",
    "                          [ 0. ,  0. ,  0. ]])\n",
    "        >>> orthogonalize(w, B)\n",
    "        array([-2.66453526e-15,  0.00000000e+00,  6.00000000e+00])\n",
    "    \"\"\"\n",
    "    projw_a = 0\n",
    "    for i in range(B.shape[1]):\n",
    "        a = B[:, i]\n",
    "        if np.all(a == 0):\n",
    "            continue\n",
    "        projw_a = projw_a + (np.dot(w, a) / np.dot(a, a)) * a\n",
    "    w = w - projw_a\n",
    "    return w"
   ]
  },
  {
   "cell_type": "markdown",
   "id": "f103e71e-8ae0-443f-831e-1c946c7fc203",
   "metadata": {},
   "source": [
    "## \"Parent\" Orthogonalize Wrapper"
   ]
  },
  {
   "cell_type": "code",
   "execution_count": 6,
   "id": "291c647b-4dda-46e7-b17f-2455730468f5",
   "metadata": {},
   "outputs": [],
   "source": [
    "def orthogonalize(w, B, fun=gram_schmidt):\n",
    "    \"\"\"\n",
    "    Step 2b from Negro et al.\n",
    "    Performs orthogonalization using selected process.\n",
    "    \n",
    "     Parameters\n",
    "    ----------\n",
    "        w: numpy.ndarray\n",
    "            Vector we are orthogonalizing against columns of B.\n",
    "        B: numpy.ndarray\n",
    "            Matrix to orthogonize w against. Should contain float dtype.\n",
    "        fun: function object name\n",
    "            What function to use for orthogonalizing process\n",
    "            Current options are\n",
    "                - gram_schmidt (default)\n",
    "                - deflate\n",
    "\n",
    "    Returns\n",
    "    -------\n",
    "        numpy.ndarray\n",
    "            Orthogonilized array.\n",
    "\n",
    "    Examples\n",
    "    --------\n",
    "        >>> w = np.array([[5, 6], [23, 29]])\n",
    "        >>> B = np.array([[3, 3], [3, 3]])\n",
    "        >>> fun = deflate\n",
    "        >>> orthogonalize(w, B, fun)\n",
    "        array([[-499, -624],\n",
    "               [-481, -601]])\n",
    "    \"\"\"\n",
    "    return fun(w,B)"
   ]
  },
  {
   "cell_type": "code",
   "execution_count": 7,
   "id": "7fad3207-fae2-44ad-b4cf-14a57a2104d4",
   "metadata": {},
   "outputs": [],
   "source": [
    "w = np.array([[5, 6], [23, 29]])\n",
    "B = np.array([[3, 3], [3, 3]])"
   ]
  },
  {
   "cell_type": "code",
   "execution_count": 8,
   "id": "c159ed89-2393-4d13-98d4-3bc2e229edfb",
   "metadata": {},
   "outputs": [
    {
     "data": {
      "text/plain": [
       "array([[-499, -624],\n",
       "       [-481, -601]])"
      ]
     },
     "execution_count": 8,
     "metadata": {},
     "output_type": "execute_result"
    }
   ],
   "source": [
    "fun = deflate\n",
    "orthogonalize(w, B, fun)"
   ]
  },
  {
   "cell_type": "code",
   "execution_count": 9,
   "id": "6ff2e4a9-275c-479a-b6bf-cb6ae8470180",
   "metadata": {},
   "outputs": [
    {
     "data": {
      "text/plain": [
       "array([[ -6., -46.],\n",
       "       [ 12., -23.]])"
      ]
     },
     "execution_count": 9,
     "metadata": {},
     "output_type": "execute_result"
    }
   ],
   "source": [
    "fun = deflate\n",
    "orthogonalize(w, B) # default = Gram-Schmidt"
   ]
  }
 ],
 "metadata": {
  "kernelspec": {
   "display_name": "Python 3 (ipykernel)",
   "language": "python",
   "name": "python3"
  },
  "language_info": {
   "codemirror_mode": {
    "name": "ipython",
    "version": 3
   },
   "file_extension": ".py",
   "mimetype": "text/x-python",
   "name": "python",
   "nbconvert_exporter": "python",
   "pygments_lexer": "ipython3",
   "version": "3.9.9"
  }
 },
 "nbformat": 4,
 "nbformat_minor": 5
}
