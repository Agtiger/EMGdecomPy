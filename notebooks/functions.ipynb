{
 "cells": [
  {
   "cell_type": "code",
   "execution_count": null,
   "id": "1fb3d6e5-cbb2-4035-9f73-96da3b3b12a8",
   "metadata": {},
   "outputs": [],
   "source": [
    "def flatten_signal(gl):\n",
    "    \"\"\"\n",
    "    Takes the GL dictionary object and adds a key-value pair of flattened signal\n",
    "    Also deletes the empty channels with no data\n",
    "    \n",
    "    Arguments:\n",
    "        gl: a GL dictionary object, contains key = 'SIG'\n",
    "        \n",
    "    Returns:\n",
    "        modified GL dictionary object with flattened SIG key-value pair\n",
    "        key = 'SIG_flat'\n",
    "        and no empty channels\n",
    "    \"\"\"\n",
    "    gl_new = gl\n",
    "    gl_new['SIG_flat'] = gl[\"SIG\"].flatten()\n",
    "    gl_new['SIG_flat'] = np.array([channel for channel in gl_new['SIG_flat'] if 0 not in channel.shape]).squeeze()\n",
    "    return gl_new"
   ]
  },
  {
   "cell_type": "code",
   "execution_count": null,
   "id": "53364e20-78a9-4eb5-8caa-48f22e057567",
   "metadata": {},
   "outputs": [],
   "source": [
    "def extend_input_by_R(x, R):\n",
    "    \"\"\"\n",
    "    Takes a one-dimensional array or list and extends it using past observations\n",
    "    \n",
    "    Arguments:\n",
    "        x: 1d array to be extended\n",
    "        R: how far back to extend it\n",
    "        \n",
    "    Returns:\n",
    "        x by R extended array\n",
    "        \n",
    "    Example:\n",
    "        R=10\n",
    "        x = np.array([2,3,4,3,4,3,6,7])\n",
    "        extend_input_by_R(x, R)\n",
    "    \"\"\"\n",
    "    extended_x = np.zeros([len(x), R])\n",
    "    for i in range(len(x)):\n",
    "        extended_x[i][:i+1] = np.flip(x[0:i+1])\n",
    "    return extended_x"
   ]
  },
  {
   "cell_type": "code",
   "execution_count": null,
   "id": "722d50f7-2953-49b2-821c-cddded0aedca",
   "metadata": {},
   "outputs": [],
   "source": [
    "def extend_input_all_channels(x_mat, R):\n",
    "    \"\"\"\n",
    "    Takes an array with dimensions m by k\n",
    "    m channels, k observations\n",
    "    and \"extends\" it to return array of shape m by k by R\n",
    "    uses function extend_input_by_R() that does it for single series\n",
    "    \n",
    "    Arguments:\n",
    "        x: 2d array to be extended\n",
    "        R: how far back to extend it\n",
    "        \n",
    "    Returns:\n",
    "        m by k by R extended array\n",
    "        \n",
    "    Example:\n",
    "        R=10\n",
    "        x_mat = np.array([[1,2,3],[4,3,6]])\n",
    "        extend_input_all_channels(x_mat, R)\n",
    "    \"\"\"\n",
    "    extended_x_mat = np.zeros([x_mat.shape[0], x_mat.shape[1], R])\n",
    "    for i, channel in enumerate(x_mat):\n",
    "        extended_channel = extend_input_by_R(channel, R)\n",
    "        extended_x_mat[i] = extended_channel\n",
    "        \n",
    "    return extended_x_mat"
   ]
  }
 ],
 "metadata": {
  "kernelspec": {
   "display_name": "Python 3 (ipykernel)",
   "language": "python",
   "name": "python3"
  },
  "language_info": {
   "codemirror_mode": {
    "name": "ipython",
    "version": 3
   },
   "file_extension": ".py",
   "mimetype": "text/x-python",
   "name": "python",
   "nbconvert_exporter": "python",
   "pygments_lexer": "ipython3",
   "version": "3.9.9"
  }
 },
 "nbformat": 4,
 "nbformat_minor": 5
}
