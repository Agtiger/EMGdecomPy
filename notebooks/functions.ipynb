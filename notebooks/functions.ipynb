{
 "cells": [
  {
   "cell_type": "code",
   "execution_count": null,
   "id": "1fb3d6e5-cbb2-4035-9f73-96da3b3b12a8",
   "metadata": {},
   "outputs": [],
   "source": [
    "def flatten_signal(gl):\n",
    "    \"\"\"\n",
    "    Takes the GL dictionary object and adds a key-value pair of flattened signal\n",
    "    Arguments:\n",
    "        gl: a GL dictionary object, contains key = 'SIG'\n",
    "    Returns:\n",
    "        modified GL dictionary object with flattened SIG key-value pair\n",
    "        key = 'SIG_flat'\n",
    "    \"\"\"\n",
    "    gl_new = gl\n",
    "    gl_new['SIG_flat'] = gl[\"SIG\"].flatten()\n",
    "    return gl_new"
   ]
  }
 ],
 "metadata": {
  "kernelspec": {
   "display_name": "Python 3 (ipykernel)",
   "language": "python",
   "name": "python3"
  },
  "language_info": {
   "codemirror_mode": {
    "name": "ipython",
    "version": 3
   },
   "file_extension": ".py",
   "mimetype": "text/x-python",
   "name": "python",
   "nbconvert_exporter": "python",
   "pygments_lexer": "ipython3",
   "version": "3.9.9"
  }
 },
 "nbformat": 4,
 "nbformat_minor": 5
}
